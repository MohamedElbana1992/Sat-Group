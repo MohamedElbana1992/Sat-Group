{
 "cells": [
  {
   "cell_type": "code",
   "execution_count": 2,
   "metadata": {},
   "outputs": [],
   "source": [
    "import numpy as np\n",
    "import pandas as pd\n",
    "import seaborn as sns\n",
    "import user_agents"
   ]
  },
  {
   "cell_type": "code",
   "execution_count": 3,
   "metadata": {},
   "outputs": [
    {
     "data": {
      "text/html": [
       "<div>\n",
       "<style scoped>\n",
       "    .dataframe tbody tr th:only-of-type {\n",
       "        vertical-align: middle;\n",
       "    }\n",
       "\n",
       "    .dataframe tbody tr th {\n",
       "        vertical-align: top;\n",
       "    }\n",
       "\n",
       "    .dataframe thead th {\n",
       "        text-align: right;\n",
       "    }\n",
       "</style>\n",
       "<table border=\"1\" class=\"dataframe\">\n",
       "  <thead>\n",
       "    <tr style=\"text-align: right;\">\n",
       "      <th></th>\n",
       "      <th>IP</th>\n",
       "      <th>UserAgent</th>\n",
       "      <th>Country</th>\n",
       "      <th>Languages</th>\n",
       "      <th>Interests</th>\n",
       "    </tr>\n",
       "  </thead>\n",
       "  <tbody>\n",
       "    <tr>\n",
       "      <th>0</th>\n",
       "      <td>1.10.195.126</td>\n",
       "      <td>Mozilla/5.0 (Windows NT 6.1; Win64; x64) Apple...</td>\n",
       "      <td>TH</td>\n",
       "      <td>english</td>\n",
       "      <td>other</td>\n",
       "    </tr>\n",
       "    <tr>\n",
       "      <th>1</th>\n",
       "      <td>1.1.217.211</td>\n",
       "      <td>Mozilla/5.0 (Windows NT 10.0; Win64; x64) Appl...</td>\n",
       "      <td>TH</td>\n",
       "      <td>thai</td>\n",
       "      <td>blog/personal homepage</td>\n",
       "    </tr>\n",
       "    <tr>\n",
       "      <th>2</th>\n",
       "      <td>1.115.198.107</td>\n",
       "      <td>Mozilla/5.0 (Windows NT 6.1) AppleWebKit/537.3...</td>\n",
       "      <td>JP</td>\n",
       "      <td>english</td>\n",
       "      <td>shop/online shopping website</td>\n",
       "    </tr>\n",
       "    <tr>\n",
       "      <th>3</th>\n",
       "      <td>1.121.152.143</td>\n",
       "      <td>Mozilla/5.0 (Linux; Android 7.0; Nexus 9 Build...</td>\n",
       "      <td>AU</td>\n",
       "      <td>english</td>\n",
       "      <td>company</td>\n",
       "    </tr>\n",
       "    <tr>\n",
       "      <th>4</th>\n",
       "      <td>1.123.135.213</td>\n",
       "      <td>Mozilla/5.0 (iPad; CPU OS 9_3_5 like Mac OS X)...</td>\n",
       "      <td>AU</td>\n",
       "      <td>english</td>\n",
       "      <td>company</td>\n",
       "    </tr>\n",
       "    <tr>\n",
       "      <th>...</th>\n",
       "      <td>...</td>\n",
       "      <td>...</td>\n",
       "      <td>...</td>\n",
       "      <td>...</td>\n",
       "      <td>...</td>\n",
       "    </tr>\n",
       "    <tr>\n",
       "      <th>19921</th>\n",
       "      <td>223.62.3.2</td>\n",
       "      <td>Mozilla/5.0 (Linux; Android 6.0.1; SM-N920S Bu...</td>\n",
       "      <td>KR</td>\n",
       "      <td>english</td>\n",
       "      <td>shop/online shopping website</td>\n",
       "    </tr>\n",
       "    <tr>\n",
       "      <th>19922</th>\n",
       "      <td>223.62.67.192</td>\n",
       "      <td>Mozilla/5.0 (Linux; Android 6.0.1; SM-N920S Bu...</td>\n",
       "      <td>KR</td>\n",
       "      <td>english</td>\n",
       "      <td>shop/online shopping website</td>\n",
       "    </tr>\n",
       "    <tr>\n",
       "      <th>19923</th>\n",
       "      <td>223.73.243.82</td>\n",
       "      <td>Mozilla/5.0 (Linux; U; Android 5.1.1; zh-cn; v...</td>\n",
       "      <td>CN</td>\n",
       "      <td>chinese</td>\n",
       "      <td>educational institution</td>\n",
       "    </tr>\n",
       "    <tr>\n",
       "      <th>19924</th>\n",
       "      <td>223.73.66.65</td>\n",
       "      <td>Mozilla/5.0 (Macintosh; Intel Mac OS X 10.11; ...</td>\n",
       "      <td>CN</td>\n",
       "      <td>english</td>\n",
       "      <td>magazine</td>\n",
       "    </tr>\n",
       "    <tr>\n",
       "      <th>19925</th>\n",
       "      <td>223.81.193.148</td>\n",
       "      <td>Mozilla/5.0 (Windows NT 5.1) AppleWebKit/537.3...</td>\n",
       "      <td>CN</td>\n",
       "      <td>chinese</td>\n",
       "      <td>social network/forum</td>\n",
       "    </tr>\n",
       "  </tbody>\n",
       "</table>\n",
       "<p>19926 rows × 5 columns</p>\n",
       "</div>"
      ],
      "text/plain": [
       "                   IP                                          UserAgent  \\\n",
       "0        1.10.195.126  Mozilla/5.0 (Windows NT 6.1; Win64; x64) Apple...   \n",
       "1         1.1.217.211  Mozilla/5.0 (Windows NT 10.0; Win64; x64) Appl...   \n",
       "2       1.115.198.107  Mozilla/5.0 (Windows NT 6.1) AppleWebKit/537.3...   \n",
       "3       1.121.152.143  Mozilla/5.0 (Linux; Android 7.0; Nexus 9 Build...   \n",
       "4       1.123.135.213  Mozilla/5.0 (iPad; CPU OS 9_3_5 like Mac OS X)...   \n",
       "...               ...                                                ...   \n",
       "19921      223.62.3.2  Mozilla/5.0 (Linux; Android 6.0.1; SM-N920S Bu...   \n",
       "19922   223.62.67.192  Mozilla/5.0 (Linux; Android 6.0.1; SM-N920S Bu...   \n",
       "19923   223.73.243.82  Mozilla/5.0 (Linux; U; Android 5.1.1; zh-cn; v...   \n",
       "19924    223.73.66.65  Mozilla/5.0 (Macintosh; Intel Mac OS X 10.11; ...   \n",
       "19925  223.81.193.148  Mozilla/5.0 (Windows NT 5.1) AppleWebKit/537.3...   \n",
       "\n",
       "      Country Languages                     Interests  \n",
       "0          TH   english                         other  \n",
       "1          TH      thai        blog/personal homepage  \n",
       "2          JP   english  shop/online shopping website  \n",
       "3          AU   english                       company  \n",
       "4          AU   english                       company  \n",
       "...       ...       ...                           ...  \n",
       "19921      KR   english  shop/online shopping website  \n",
       "19922      KR   english  shop/online shopping website  \n",
       "19923      CN   chinese       educational institution  \n",
       "19924      CN   english                      magazine  \n",
       "19925      CN   chinese          social network/forum  \n",
       "\n",
       "[19926 rows x 5 columns]"
      ]
     },
     "execution_count": 3,
     "metadata": {},
     "output_type": "execute_result"
    }
   ],
   "source": [
    "df=pd.read_csv('datasets/visitor-interests.csv')\n",
    "df"
   ]
  },
  {
   "cell_type": "code",
   "execution_count": 4,
   "metadata": {},
   "outputs": [
    {
     "name": "stdout",
     "output_type": "stream",
     "text": [
      "<class 'pandas.core.frame.DataFrame'>\n",
      "RangeIndex: 19926 entries, 0 to 19925\n",
      "Data columns (total 5 columns):\n",
      " #   Column     Non-Null Count  Dtype \n",
      "---  ------     --------------  ----- \n",
      " 0   IP         19926 non-null  object\n",
      " 1   UserAgent  19926 non-null  object\n",
      " 2   Country    16721 non-null  object\n",
      " 3   Languages  19926 non-null  object\n",
      " 4   Interests  19919 non-null  object\n",
      "dtypes: object(5)\n",
      "memory usage: 778.5+ KB\n"
     ]
    }
   ],
   "source": [
    "df.info()"
   ]
  },
  {
   "cell_type": "code",
   "execution_count": 5,
   "metadata": {},
   "outputs": [
    {
     "data": {
      "text/plain": [
       "'Mozilla/5.0 (Windows NT 6.1; Win64; x64) AppleWebKit/537.36 (KHTML, like Gecko) Chrome/53.0.2785.116 Safari/537.36'"
      ]
     },
     "execution_count": 5,
     "metadata": {},
     "output_type": "execute_result"
    }
   ],
   "source": [
    "df['UserAgent'][0]"
   ]
  },
  {
   "cell_type": "code",
   "execution_count": 6,
   "metadata": {},
   "outputs": [
    {
     "name": "stdout",
     "output_type": "stream",
     "text": [
      "False\n",
      "Windows\n",
      "Chrome\n",
      "Other\n"
     ]
    }
   ],
   "source": [
    "import user_agents\n",
    "ua=user_agents.parse(df['UserAgent'][0])\n",
    "\n",
    "print(ua.is_bot)\n",
    "print(ua.os.family)\n",
    "print(ua.browser.family)\n",
    "print(ua.device.family)"
   ]
  },
  {
   "cell_type": "code",
   "execution_count": 7,
   "metadata": {},
   "outputs": [
    {
     "data": {
      "text/html": [
       "<div>\n",
       "<style scoped>\n",
       "    .dataframe tbody tr th:only-of-type {\n",
       "        vertical-align: middle;\n",
       "    }\n",
       "\n",
       "    .dataframe tbody tr th {\n",
       "        vertical-align: top;\n",
       "    }\n",
       "\n",
       "    .dataframe thead th {\n",
       "        text-align: right;\n",
       "    }\n",
       "</style>\n",
       "<table border=\"1\" class=\"dataframe\">\n",
       "  <thead>\n",
       "    <tr style=\"text-align: right;\">\n",
       "      <th></th>\n",
       "      <th>IP</th>\n",
       "      <th>UserAgent</th>\n",
       "      <th>Country</th>\n",
       "      <th>Languages</th>\n",
       "      <th>Interests</th>\n",
       "      <th>os</th>\n",
       "      <th>browser</th>\n",
       "      <th>device</th>\n",
       "    </tr>\n",
       "  </thead>\n",
       "  <tbody>\n",
       "    <tr>\n",
       "      <th>0</th>\n",
       "      <td>1.10.195.126</td>\n",
       "      <td>Mozilla/5.0 (Windows NT 6.1; Win64; x64) Apple...</td>\n",
       "      <td>TH</td>\n",
       "      <td>english</td>\n",
       "      <td>other</td>\n",
       "      <td>Windows</td>\n",
       "      <td>Chrome</td>\n",
       "      <td>Other</td>\n",
       "    </tr>\n",
       "    <tr>\n",
       "      <th>1</th>\n",
       "      <td>1.1.217.211</td>\n",
       "      <td>Mozilla/5.0 (Windows NT 10.0; Win64; x64) Appl...</td>\n",
       "      <td>TH</td>\n",
       "      <td>thai</td>\n",
       "      <td>blog/personal homepage</td>\n",
       "      <td>Windows</td>\n",
       "      <td>Chrome</td>\n",
       "      <td>Other</td>\n",
       "    </tr>\n",
       "    <tr>\n",
       "      <th>2</th>\n",
       "      <td>1.115.198.107</td>\n",
       "      <td>Mozilla/5.0 (Windows NT 6.1) AppleWebKit/537.3...</td>\n",
       "      <td>JP</td>\n",
       "      <td>english</td>\n",
       "      <td>shop/online shopping website</td>\n",
       "      <td>Windows</td>\n",
       "      <td>Chrome</td>\n",
       "      <td>Other</td>\n",
       "    </tr>\n",
       "    <tr>\n",
       "      <th>3</th>\n",
       "      <td>1.121.152.143</td>\n",
       "      <td>Mozilla/5.0 (Linux; Android 7.0; Nexus 9 Build...</td>\n",
       "      <td>AU</td>\n",
       "      <td>english</td>\n",
       "      <td>company</td>\n",
       "      <td>Android</td>\n",
       "      <td>Chrome</td>\n",
       "      <td>Nexus 9</td>\n",
       "    </tr>\n",
       "    <tr>\n",
       "      <th>4</th>\n",
       "      <td>1.123.135.213</td>\n",
       "      <td>Mozilla/5.0 (iPad; CPU OS 9_3_5 like Mac OS X)...</td>\n",
       "      <td>AU</td>\n",
       "      <td>english</td>\n",
       "      <td>company</td>\n",
       "      <td>iOS</td>\n",
       "      <td>Mobile Safari</td>\n",
       "      <td>iPad</td>\n",
       "    </tr>\n",
       "    <tr>\n",
       "      <th>...</th>\n",
       "      <td>...</td>\n",
       "      <td>...</td>\n",
       "      <td>...</td>\n",
       "      <td>...</td>\n",
       "      <td>...</td>\n",
       "      <td>...</td>\n",
       "      <td>...</td>\n",
       "      <td>...</td>\n",
       "    </tr>\n",
       "    <tr>\n",
       "      <th>19921</th>\n",
       "      <td>223.62.3.2</td>\n",
       "      <td>Mozilla/5.0 (Linux; Android 6.0.1; SM-N920S Bu...</td>\n",
       "      <td>KR</td>\n",
       "      <td>english</td>\n",
       "      <td>shop/online shopping website</td>\n",
       "      <td>Android</td>\n",
       "      <td>Chrome Mobile</td>\n",
       "      <td>Samsung SM-N920S</td>\n",
       "    </tr>\n",
       "    <tr>\n",
       "      <th>19922</th>\n",
       "      <td>223.62.67.192</td>\n",
       "      <td>Mozilla/5.0 (Linux; Android 6.0.1; SM-N920S Bu...</td>\n",
       "      <td>KR</td>\n",
       "      <td>english</td>\n",
       "      <td>shop/online shopping website</td>\n",
       "      <td>Android</td>\n",
       "      <td>Chrome Mobile</td>\n",
       "      <td>Samsung SM-N920S</td>\n",
       "    </tr>\n",
       "    <tr>\n",
       "      <th>19923</th>\n",
       "      <td>223.73.243.82</td>\n",
       "      <td>Mozilla/5.0 (Linux; U; Android 5.1.1; zh-cn; v...</td>\n",
       "      <td>CN</td>\n",
       "      <td>chinese</td>\n",
       "      <td>educational institution</td>\n",
       "      <td>Android</td>\n",
       "      <td>QQ Browser Mobile</td>\n",
       "      <td>vivo X7L</td>\n",
       "    </tr>\n",
       "    <tr>\n",
       "      <th>19924</th>\n",
       "      <td>223.73.66.65</td>\n",
       "      <td>Mozilla/5.0 (Macintosh; Intel Mac OS X 10.11; ...</td>\n",
       "      <td>CN</td>\n",
       "      <td>english</td>\n",
       "      <td>magazine</td>\n",
       "      <td>Mac OS X</td>\n",
       "      <td>Firefox</td>\n",
       "      <td>Mac</td>\n",
       "    </tr>\n",
       "    <tr>\n",
       "      <th>19925</th>\n",
       "      <td>223.81.193.148</td>\n",
       "      <td>Mozilla/5.0 (Windows NT 5.1) AppleWebKit/537.3...</td>\n",
       "      <td>CN</td>\n",
       "      <td>chinese</td>\n",
       "      <td>social network/forum</td>\n",
       "      <td>Windows</td>\n",
       "      <td>Chrome</td>\n",
       "      <td>Other</td>\n",
       "    </tr>\n",
       "  </tbody>\n",
       "</table>\n",
       "<p>19926 rows × 8 columns</p>\n",
       "</div>"
      ],
      "text/plain": [
       "                   IP                                          UserAgent  \\\n",
       "0        1.10.195.126  Mozilla/5.0 (Windows NT 6.1; Win64; x64) Apple...   \n",
       "1         1.1.217.211  Mozilla/5.0 (Windows NT 10.0; Win64; x64) Appl...   \n",
       "2       1.115.198.107  Mozilla/5.0 (Windows NT 6.1) AppleWebKit/537.3...   \n",
       "3       1.121.152.143  Mozilla/5.0 (Linux; Android 7.0; Nexus 9 Build...   \n",
       "4       1.123.135.213  Mozilla/5.0 (iPad; CPU OS 9_3_5 like Mac OS X)...   \n",
       "...               ...                                                ...   \n",
       "19921      223.62.3.2  Mozilla/5.0 (Linux; Android 6.0.1; SM-N920S Bu...   \n",
       "19922   223.62.67.192  Mozilla/5.0 (Linux; Android 6.0.1; SM-N920S Bu...   \n",
       "19923   223.73.243.82  Mozilla/5.0 (Linux; U; Android 5.1.1; zh-cn; v...   \n",
       "19924    223.73.66.65  Mozilla/5.0 (Macintosh; Intel Mac OS X 10.11; ...   \n",
       "19925  223.81.193.148  Mozilla/5.0 (Windows NT 5.1) AppleWebKit/537.3...   \n",
       "\n",
       "      Country Languages                     Interests        os  \\\n",
       "0          TH   english                         other   Windows   \n",
       "1          TH      thai        blog/personal homepage   Windows   \n",
       "2          JP   english  shop/online shopping website   Windows   \n",
       "3          AU   english                       company   Android   \n",
       "4          AU   english                       company       iOS   \n",
       "...       ...       ...                           ...       ...   \n",
       "19921      KR   english  shop/online shopping website   Android   \n",
       "19922      KR   english  shop/online shopping website   Android   \n",
       "19923      CN   chinese       educational institution   Android   \n",
       "19924      CN   english                      magazine  Mac OS X   \n",
       "19925      CN   chinese          social network/forum   Windows   \n",
       "\n",
       "                 browser            device  \n",
       "0                 Chrome             Other  \n",
       "1                 Chrome             Other  \n",
       "2                 Chrome             Other  \n",
       "3                 Chrome           Nexus 9  \n",
       "4          Mobile Safari              iPad  \n",
       "...                  ...               ...  \n",
       "19921      Chrome Mobile  Samsung SM-N920S  \n",
       "19922      Chrome Mobile  Samsung SM-N920S  \n",
       "19923  QQ Browser Mobile          vivo X7L  \n",
       "19924            Firefox               Mac  \n",
       "19925             Chrome             Other  \n",
       "\n",
       "[19926 rows x 8 columns]"
      ]
     },
     "execution_count": 7,
     "metadata": {},
     "output_type": "execute_result"
    }
   ],
   "source": [
    "def xyz(x):\n",
    "    return pd.Series((user_agents.parse(x).os.family,user_agents.parse(x).browser.family,user_agents.parse(x).device.family))\n",
    "\n",
    "df[['os','browser','device']]=df['UserAgent'].apply(xyz)\n",
    "df"
   ]
  },
  {
   "cell_type": "code",
   "execution_count": 8,
   "metadata": {},
   "outputs": [
    {
     "data": {
      "text/plain": [
       "0      1.10.195.126\n",
       "1       1.1.217.211\n",
       "2     1.115.198.107\n",
       "3     1.121.152.143\n",
       "4     1.123.135.213\n",
       "5      1.124.48.210\n",
       "6       1.124.48.99\n",
       "7      1.126.48.118\n",
       "8      1.126.48.171\n",
       "9       1.126.48.47\n",
       "10     1.128.96.235\n",
       "11      1.128.96.30\n",
       "12     1.128.97.122\n",
       "13     1.129.96.120\n",
       "14      1.129.96.21\n",
       "15     1.129.96.252\n",
       "16      1.129.96.79\n",
       "17      1.129.96.86\n",
       "18      1.129.97.46\n",
       "19      1.129.97.62\n",
       "20     1.132.96.125\n",
       "21     1.132.96.203\n",
       "22      1.132.97.60\n",
       "23      1.136.97.40\n",
       "24      1.136.97.67\n",
       "25     1.144.96.234\n",
       "26      1.144.96.77\n",
       "27      1.144.97.41\n",
       "28      1.152.96.14\n",
       "29     1.152.96.156\n",
       "30     1.152.96.251\n",
       "31     1.152.97.102\n",
       "32      1.152.97.25\n",
       "33      1.161.13.16\n",
       "34     1.161.27.235\n",
       "35     1.162.51.164\n",
       "36     1.163.208.88\n",
       "37     1.164.141.85\n",
       "38      1.164.73.87\n",
       "39     1.168.54.202\n",
       "40     1.173.31.228\n",
       "41      1.186.37.87\n",
       "42      1.186.38.82\n",
       "43     1.186.98.212\n",
       "44     1.187.118.90\n",
       "45     1.187.188.80\n",
       "46    1.187.196.224\n",
       "47    1.187.201.169\n",
       "48    1.187.207.245\n",
       "49     1.187.58.245\n",
       "50     1.187.84.143\n",
       "Name: IP, dtype: object"
      ]
     },
     "execution_count": 8,
     "metadata": {},
     "output_type": "execute_result"
    }
   ],
   "source": [
    "df['IP'][0:51]"
   ]
  },
  {
   "cell_type": "code",
   "execution_count": 9,
   "metadata": {},
   "outputs": [
    {
     "data": {
      "text/plain": [
       "'New Delhi'"
      ]
     },
     "execution_count": 9,
     "metadata": {},
     "output_type": "execute_result"
    }
   ],
   "source": [
    "from ip2geotools.databases.noncommercial import DbIpCity as ip2geo\n",
    "\n",
    "response=ip2geo.get('1.187.201.169',api_key='free')\n",
    "response.city"
   ]
  },
  {
   "cell_type": "code",
   "execution_count": 10,
   "metadata": {},
   "outputs": [
    {
     "data": {
      "text/plain": [
       "'IN'"
      ]
     },
     "execution_count": 10,
     "metadata": {},
     "output_type": "execute_result"
    }
   ],
   "source": [
    "response.country"
   ]
  },
  {
   "cell_type": "code",
   "execution_count": 11,
   "metadata": {},
   "outputs": [
    {
     "data": {
      "text/plain": [
       "28.6138954"
      ]
     },
     "execution_count": 11,
     "metadata": {},
     "output_type": "execute_result"
    }
   ],
   "source": [
    "response.latitude"
   ]
  },
  {
   "cell_type": "code",
   "execution_count": 12,
   "metadata": {},
   "outputs": [
    {
     "data": {
      "text/plain": [
       "77.2090057"
      ]
     },
     "execution_count": 12,
     "metadata": {},
     "output_type": "execute_result"
    }
   ],
   "source": [
    "response.longitude"
   ]
  },
  {
   "cell_type": "code",
   "execution_count": null,
   "metadata": {},
   "outputs": [],
   "source": []
  },
  {
   "cell_type": "code",
   "execution_count": null,
   "metadata": {},
   "outputs": [],
   "source": []
  }
 ],
 "metadata": {
  "kernelspec": {
   "display_name": "Python 3",
   "language": "python",
   "name": "python3"
  },
  "language_info": {
   "codemirror_mode": {
    "name": "ipython",
    "version": 3
   },
   "file_extension": ".py",
   "mimetype": "text/x-python",
   "name": "python",
   "nbconvert_exporter": "python",
   "pygments_lexer": "ipython3",
   "version": "3.8.5"
  }
 },
 "nbformat": 4,
 "nbformat_minor": 4
}
